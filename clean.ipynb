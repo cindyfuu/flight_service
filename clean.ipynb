{
 "cells": [
  {
   "cell_type": "code",
   "execution_count": 221,
   "metadata": {},
   "outputs": [],
   "source": [
    "import pandas as pd\n",
    "from datetime import datetime\n",
    "import re\n",
    "pd.options.mode.chained_assignment = None"
   ]
  },
  {
   "cell_type": "code",
   "execution_count": 222,
   "metadata": {},
   "outputs": [],
   "source": [
    "df = pd.read_excel('flight_info.xlsx')"
   ]
  },
  {
   "cell_type": "code",
   "execution_count": 223,
   "metadata": {},
   "outputs": [],
   "source": [
    "df = df[['序号', '1、姓名', '2、华盛顿大学邮箱(UW_NETID@uw.edu)',\n",
    "         '3、出发城市：', '4、出发日期：', '5、航班出发的当地时间：（请用24小时制填写，例如：17:30）', \n",
    "         '6、落地西雅图的日期：', '7、航班抵达西雅图的当地时间：（请用24小时制填写，例如：17:30）', \n",
    "         '8、抵达西雅图航班的航班号：']]"
   ]
  },
  {
   "cell_type": "code",
   "execution_count": 224,
   "metadata": {},
   "outputs": [],
   "source": [
    "df.columns = ['form_id', 'name','email', 'dep_city', 'dep_date',\n",
    "              'dep_time', 'arr_date', 'arr_time', 'flight_num']"
   ]
  },
  {
   "cell_type": "code",
   "execution_count": 225,
   "metadata": {},
   "outputs": [],
   "source": [
    "def clean_time(df, col):\n",
    "    df[col].replace('：',':',regex=True,inplace=True)\n",
    "    df[col].replace('\\.', ':', regex=True, inplace=True)\n",
    "    df[col].replace(' ', '', regex=True, inplace=True)\n",
    "    df[col].replace('点', ':', regex=True, inplace=True)\n",
    "    df[col].replace('分', '', regex=True, inplace=True)\n",
    "    df[col] = df[col].map(lambda x: datetime.strptime(x.strip(),'%H') if len(x)==1 else datetime.strptime(x.strip(),'%H:%M'))\n",
    "    df[col] = df[col].dt.time"
   ]
  },
  {
   "cell_type": "code",
   "execution_count": 226,
   "metadata": {},
   "outputs": [],
   "source": [
    "clean_time(df, 'arr_time')\n",
    "clean_time(df, 'dep_time')"
   ]
  },
  {
   "cell_type": "code",
   "execution_count": 227,
   "metadata": {},
   "outputs": [],
   "source": [
    "# remove space and change lower case to upper case\n",
    "df['flight_num'] = df['flight_num'].map(lambda x: x.upper().replace(' ',''))\n",
    "# remove none alphabet or none number\n",
    "df['flight_num'] = df['flight_num'].map(lambda x: re.sub('[^0-9a-zA-Z]+', '', x))\n",
    "# remove 0 that immediately positions after character KE0401 -> KE401\n",
    "df['flight_num'] = df['flight_num'].map(lambda x: x[:2] + x[3:] if re.findall('[^a-zA-Z]', x)[0]=='0' else x)\n",
    "# remove any characters and digtis after digits KE401A23 -> KE401\n",
    "df['flight_num'] = df['flight_num'].map(lambda x: re.findall('(\\D{2}\\d{2,4}\\D)', x)[0][:-1] if re.findall('(\\D{2}\\d{2,4}\\D)', x) else x)\n",
    "# fix edge cases\n",
    "df['flight_num'].replace('KOREANAIR41', 'KE41', inplace=True)\n",
    "df['flight_num'].replace('QZ272', 'OZ272', inplace=True)"
   ]
  },
  {
   "cell_type": "code",
   "execution_count": 228,
   "metadata": {},
   "outputs": [],
   "source": [
    "df.to_csv('flight_info_clean.csv', index=False, encoding='utf-8-sig')"
   ]
  },
  {
   "cell_type": "code",
   "execution_count": 229,
   "metadata": {},
   "outputs": [
    {
     "data": {
      "text/plain": [
       "arr_date  arr_time  flight_num\n",
       "9月19日     10:30:00  KE401          1\n",
       "                    KE41           8\n",
       "          10:35:00  NH118          3\n",
       "          13:25:00  EK229          1\n",
       "          13:34:00  UA2315         1\n",
       "          13:50:00  DL196          3\n",
       "          16:20:00  TK203          1\n",
       "          19:00:00  DL2250         1\n",
       "9月20日     10:30:00  KE41           7\n",
       "          10:35:00  NH118          3\n",
       "          12:40:00  OZ272          1\n",
       "          12:45:00  OZ272         41\n",
       "                    OZ332          2\n",
       "          12:55:00  OZ272          1\n",
       "          17:25:00  NH118          1\n",
       "          18:15:00  OZ272          1\n",
       "9月21日     08:45:00  SQ28           2\n",
       "          10:35:00  AA8446         1\n",
       "          12:45:00  OZ272          3\n",
       "          13:50:00  DL196          1\n",
       "          14:20:00  DL282          1\n",
       "Name: name, dtype: int64"
      ]
     },
     "execution_count": 229,
     "metadata": {},
     "output_type": "execute_result"
    }
   ],
   "source": [
    "df.groupby(['arr_date', 'arr_time', 'flight_num']).count()['name']"
   ]
  },
  {
   "cell_type": "code",
   "execution_count": 230,
   "metadata": {},
   "outputs": [
    {
     "data": {
      "text/plain": [
       "arr_date  arr_time\n",
       "9月19日     10:30:00     9\n",
       "          10:35:00     3\n",
       "          13:25:00     1\n",
       "          13:34:00     1\n",
       "          13:50:00     3\n",
       "          16:20:00     1\n",
       "          19:00:00     1\n",
       "9月20日     10:30:00     7\n",
       "          10:35:00     3\n",
       "          12:40:00     1\n",
       "          12:45:00    43\n",
       "          12:55:00     1\n",
       "          17:25:00     1\n",
       "          18:15:00     1\n",
       "9月21日     08:45:00     2\n",
       "          10:35:00     1\n",
       "          12:45:00     3\n",
       "          13:50:00     1\n",
       "          14:20:00     1\n",
       "Name: name, dtype: int64"
      ]
     },
     "execution_count": 230,
     "metadata": {},
     "output_type": "execute_result"
    }
   ],
   "source": [
    "# visualize the arrive time by count\n",
    "df.groupby(['arr_date', 'arr_time']).count()['name']"
   ]
  },
  {
   "cell_type": "code",
   "execution_count": 231,
   "metadata": {},
   "outputs": [
    {
     "data": {
      "text/plain": [
       "arr_date  flight_num\n",
       "9月19日     DL196          3\n",
       "          DL2250         1\n",
       "          EK229          1\n",
       "          KE401          1\n",
       "          KE41           8\n",
       "          NH118          3\n",
       "          TK203          1\n",
       "          UA2315         1\n",
       "9月20日     KE41           7\n",
       "          NH118          4\n",
       "          OZ272         44\n",
       "          OZ332          2\n",
       "9月21日     AA8446         1\n",
       "          DL196          1\n",
       "          DL282          1\n",
       "          OZ272          3\n",
       "          SQ28           2\n",
       "Name: name, dtype: int64"
      ]
     },
     "execution_count": 231,
     "metadata": {},
     "output_type": "execute_result"
    }
   ],
   "source": [
    "df.groupby(['arr_date', 'flight_num']).count()['name']"
   ]
  }
 ],
 "metadata": {
  "kernelspec": {
   "display_name": ".venv",
   "language": "python",
   "name": "python3"
  },
  "language_info": {
   "codemirror_mode": {
    "name": "ipython",
    "version": 3
   },
   "file_extension": ".py",
   "mimetype": "text/x-python",
   "name": "python",
   "nbconvert_exporter": "python",
   "pygments_lexer": "ipython3",
   "version": "3.8.9"
  },
  "orig_nbformat": 4
 },
 "nbformat": 4,
 "nbformat_minor": 2
}
